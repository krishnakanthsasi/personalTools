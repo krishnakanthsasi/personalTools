{
 "cells": [
  {
   "cell_type": "markdown",
   "metadata": {},
   "source": [
    "# Hello, this was my first build. \n",
    "\n",
    "#### Credits and aknowledgement.\n",
    "This was inspired by a youtuber who made a similar build in a day. I am however not using his code.\n",
    "\n",
    "## Goal: \n",
    "**Time tracker for different events being involved with on the laptop.**\n",
    "\n",
    "###  Motivation:\n",
    "I am at moment involved with Anaconda, and Jupyter notebook, spyder for coding, and internet options for job search and networking through emailing. I want to find out how much time I spend on each of this. Therefore my application should atleast look at the time I am spending coding, time I spent on emails, whatsappweb, and social media. And how much time I spent on other websites.\n",
    "\n",
    "### Sub Goals:\n",
    "1. Track time on different activities, such as browsing, coding, or using different applications.\n",
    "2. Group similar activities together even if on different applications, and differentiate dissimilar activities even if performed on same application.\n",
    "3. Create summary chart of the time expenditure.\n",
    "\n",
    "### Base theory:\n",
    "There exists different applications. I have two categories at the moment. Coding, and browsing. When it comes to browsing, or using a browser, different websites/tabs offer different activities. Even on the coding level, different titles of the script means different projects.\n",
    "\n",
    "### Coding Flow chart\n",
    "1. Make the program start with windows, and stop windows. (Run in the background.)\n",
    "2. Identify the active application\n",
    "3. Time window being active to window being passive.\n",
    "4. Aggregate time for similar windows\n",
    "5. Identify different subwindows within an application.\n",
    "6. Repeat 3 & 4 for 5.\n",
    "7. Store the calculated times in a json format.\n",
    "8. output the of results of the json in a webapplication.\n",
    "  \n",
    "*Alright let's get started!*"
   ]
  },
  {
   "cell_type": "code",
   "execution_count": 7,
   "metadata": {},
   "outputs": [
    {
     "name": "stdout",
     "output_type": "stream",
     "text": [
      "Hello World\n"
     ]
    }
   ],
   "source": [
    "! python time-activity-tracker.py"
   ]
  },
  {
   "cell_type": "code",
   "execution_count": 55,
   "metadata": {},
   "outputs": [],
   "source": [
    "# Debuggin\n",
    "def printTime(t):\n",
    "    \"\"\"\n",
    "    Takes time in seconds, and print in the output in human friendly format (DD:hh:mm:ss)\n",
    "    \"\"\"\n",
    "    t = round(t)\n",
    "    if t < 60:\n",
    "        print(t,\"seconds\")\n",
    "        return\n",
    "    else:\n",
    "        m = int(t/60)\n",
    "        s = t%60\n",
    "        #print(m, s)\n",
    "        if (m < 60) & (m > 1):\n",
    "            print(\"%d minutes, %d seconds\" %(m, s))\n",
    "            return\n",
    "        elif m == 1:\n",
    "            print(\"%d minute, %d seconds\" %(m, s))\n",
    "            return\n",
    "        else:\n",
    "            h = int(m/60)\n",
    "            m = m%60\n",
    "            if (h < 24) & (h > 1):\n",
    "                print(\"%d hours, %d minutes, %d seconds\" %(h, m, s))\n",
    "                return\n",
    "            elif h == 1:\n",
    "                print(\"%d hour, %d minutes, %d seconds\" %(h, m, s))\n",
    "                return\n",
    "            else:\n",
    "                d = int(h/24)\n",
    "                h = h%24\n",
    "                if d > 1:\n",
    "                    print(\"%d days, %d hours, %d minutes, %d seconds\" %(d, h, m, s))\n",
    "                    return\n",
    "                else:\n",
    "                    print(\"%d day, %d hour, %d minutes, %d seconds\" %(d, h, m, s))\n",
    "                    return (\"Hello\") \n",
    "\n"
   ]
  },
  {
   "cell_type": "code",
   "execution_count": 56,
   "metadata": {},
   "outputs": [
    {
     "name": "stdout",
     "output_type": "stream",
     "text": [
      "1 day, 0 hour, 0 minutes, 1 seconds\n"
     ]
    }
   ],
   "source": [
    "out = printTime(3600*24+1)"
   ]
  },
  {
   "cell_type": "code",
   "execution_count": 18,
   "metadata": {},
   "outputs": [
    {
     "data": {
      "text/plain": [
       "True"
      ]
     },
     "execution_count": 18,
     "metadata": {},
     "output_type": "execute_result"
    }
   ],
   "source": [
    "m = 2\n",
    "m > 1 & m < 60"
   ]
  },
  {
   "cell_type": "code",
   "execution_count": 42,
   "metadata": {},
   "outputs": [
    {
     "name": "stdout",
     "output_type": "stream",
     "text": [
      "helloworld\n"
     ]
    }
   ],
   "source": [
    "hello = print(\"helloworld\");"
   ]
  },
  {
   "cell_type": "code",
   "execution_count": 43,
   "metadata": {},
   "outputs": [],
   "source": [
    "hello"
   ]
  },
  {
   "cell_type": "code",
   "execution_count": 45,
   "metadata": {},
   "outputs": [],
   "source": [
    "dinesh = \"Dinesh is %d old \" %8"
   ]
  },
  {
   "cell_type": "code",
   "execution_count": 46,
   "metadata": {},
   "outputs": [
    {
     "data": {
      "text/plain": [
       "'Dinesh is 8 old '"
      ]
     },
     "execution_count": 46,
     "metadata": {},
     "output_type": "execute_result"
    }
   ],
   "source": [
    "dinesh"
   ]
  },
  {
   "cell_type": "code",
   "execution_count": 57,
   "metadata": {},
   "outputs": [
    {
     "data": {
      "text/plain": [
       "'Hello'"
      ]
     },
     "execution_count": 57,
     "metadata": {},
     "output_type": "execute_result"
    }
   ],
   "source": [
    "out"
   ]
  },
  {
   "cell_type": "code",
   "execution_count": 58,
   "metadata": {},
   "outputs": [
    {
     "name": "stdout",
     "output_type": "stream",
     "text": [
      "Hello\n"
     ]
    }
   ],
   "source": [
    "print(out)"
   ]
  },
  {
   "cell_type": "code",
   "execution_count": 5,
   "metadata": {},
   "outputs": [],
   "source": [
    "code_keywords = \"Anaconda\" \n",
    "if code_keywords in title:\n",
    "    print(\"The user is writing code\")"
   ]
  },
  {
   "cell_type": "code",
   "execution_count": null,
   "metadata": {},
   "outputs": [],
   "source": []
  }
 ],
 "metadata": {
  "kernelspec": {
   "display_name": "Python 3",
   "language": "python",
   "name": "python3"
  },
  "language_info": {
   "codemirror_mode": {
    "name": "ipython",
    "version": 3
   },
   "file_extension": ".py",
   "mimetype": "text/x-python",
   "name": "python",
   "nbconvert_exporter": "python",
   "pygments_lexer": "ipython3",
   "version": "3.7.3"
  }
 },
 "nbformat": 4,
 "nbformat_minor": 2
}
